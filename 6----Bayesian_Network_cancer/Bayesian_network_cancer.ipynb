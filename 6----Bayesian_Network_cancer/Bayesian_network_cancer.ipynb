{
  "nbformat": 4,
  "nbformat_minor": 0,
  "metadata": {
    "colab": {
      "name": "Bayesian_network_cancer.ipynb",
      "provenance": [],
      "collapsed_sections": []
    },
    "kernelspec": {
      "name": "python3",
      "display_name": "Python 3"
    },
    "language_info": {
      "name": "python"
    }
  },
  "cells": [
    {
      "cell_type": "code",
      "metadata": {
        "colab": {
          "base_uri": "https://localhost:8080/"
        },
        "id": "SQcqIy27VeRi",
        "outputId": "f50f1c16-9b55-4b62-eb44-11119fe2b89b"
      },
      "source": [
        "!pip install pgmpy"
      ],
      "execution_count": 1,
      "outputs": [
        {
          "output_type": "stream",
          "text": [
            "Collecting pgmpy\n",
            "\u001b[?25l  Downloading https://files.pythonhosted.org/packages/a3/0e/d9fadbfaa35e010c04d43acd3ae9fbefec98897dd7d61a6b7eb5a8b34072/pgmpy-0.1.14-py3-none-any.whl (331kB)\n",
            "\r\u001b[K     |█                               | 10kB 17.9MB/s eta 0:00:01\r\u001b[K     |██                              | 20kB 24.3MB/s eta 0:00:01\r\u001b[K     |███                             | 30kB 12.9MB/s eta 0:00:01\r\u001b[K     |████                            | 40kB 10.3MB/s eta 0:00:01\r\u001b[K     |█████                           | 51kB 8.1MB/s eta 0:00:01\r\u001b[K     |██████                          | 61kB 8.5MB/s eta 0:00:01\r\u001b[K     |███████                         | 71kB 8.1MB/s eta 0:00:01\r\u001b[K     |████████                        | 81kB 8.5MB/s eta 0:00:01\r\u001b[K     |█████████                       | 92kB 8.2MB/s eta 0:00:01\r\u001b[K     |█████████▉                      | 102kB 8.8MB/s eta 0:00:01\r\u001b[K     |██████████▉                     | 112kB 8.8MB/s eta 0:00:01\r\u001b[K     |███████████▉                    | 122kB 8.8MB/s eta 0:00:01\r\u001b[K     |████████████▉                   | 133kB 8.8MB/s eta 0:00:01\r\u001b[K     |█████████████▉                  | 143kB 8.8MB/s eta 0:00:01\r\u001b[K     |██████████████▉                 | 153kB 8.8MB/s eta 0:00:01\r\u001b[K     |███████████████▉                | 163kB 8.8MB/s eta 0:00:01\r\u001b[K     |████████████████▉               | 174kB 8.8MB/s eta 0:00:01\r\u001b[K     |█████████████████▉              | 184kB 8.8MB/s eta 0:00:01\r\u001b[K     |██████████████████▉             | 194kB 8.8MB/s eta 0:00:01\r\u001b[K     |███████████████████▊            | 204kB 8.8MB/s eta 0:00:01\r\u001b[K     |████████████████████▊           | 215kB 8.8MB/s eta 0:00:01\r\u001b[K     |█████████████████████▊          | 225kB 8.8MB/s eta 0:00:01\r\u001b[K     |██████████████████████▊         | 235kB 8.8MB/s eta 0:00:01\r\u001b[K     |███████████████████████▊        | 245kB 8.8MB/s eta 0:00:01\r\u001b[K     |████████████████████████▊       | 256kB 8.8MB/s eta 0:00:01\r\u001b[K     |█████████████████████████▊      | 266kB 8.8MB/s eta 0:00:01\r\u001b[K     |██████████████████████████▊     | 276kB 8.8MB/s eta 0:00:01\r\u001b[K     |███████████████████████████▊    | 286kB 8.8MB/s eta 0:00:01\r\u001b[K     |████████████████████████████▊   | 296kB 8.8MB/s eta 0:00:01\r\u001b[K     |█████████████████████████████▋  | 307kB 8.8MB/s eta 0:00:01\r\u001b[K     |██████████████████████████████▋ | 317kB 8.8MB/s eta 0:00:01\r\u001b[K     |███████████████████████████████▋| 327kB 8.8MB/s eta 0:00:01\r\u001b[K     |████████████████████████████████| 337kB 8.8MB/s \n",
            "\u001b[?25hRequirement already satisfied: pyparsing in /usr/local/lib/python3.7/dist-packages (from pgmpy) (2.4.7)\n",
            "Requirement already satisfied: scikit-learn in /usr/local/lib/python3.7/dist-packages (from pgmpy) (0.22.2.post1)\n",
            "Requirement already satisfied: tqdm in /usr/local/lib/python3.7/dist-packages (from pgmpy) (4.41.1)\n",
            "Requirement already satisfied: pandas in /usr/local/lib/python3.7/dist-packages (from pgmpy) (1.1.5)\n",
            "Requirement already satisfied: networkx in /usr/local/lib/python3.7/dist-packages (from pgmpy) (2.5.1)\n",
            "Requirement already satisfied: joblib in /usr/local/lib/python3.7/dist-packages (from pgmpy) (1.0.1)\n",
            "Requirement already satisfied: scipy in /usr/local/lib/python3.7/dist-packages (from pgmpy) (1.4.1)\n",
            "Requirement already satisfied: torch in /usr/local/lib/python3.7/dist-packages (from pgmpy) (1.8.1+cu101)\n",
            "Requirement already satisfied: statsmodels in /usr/local/lib/python3.7/dist-packages (from pgmpy) (0.10.2)\n",
            "Requirement already satisfied: numpy in /usr/local/lib/python3.7/dist-packages (from pgmpy) (1.19.5)\n",
            "Requirement already satisfied: python-dateutil>=2.7.3 in /usr/local/lib/python3.7/dist-packages (from pandas->pgmpy) (2.8.1)\n",
            "Requirement already satisfied: pytz>=2017.2 in /usr/local/lib/python3.7/dist-packages (from pandas->pgmpy) (2018.9)\n",
            "Requirement already satisfied: decorator<5,>=4.3 in /usr/local/lib/python3.7/dist-packages (from networkx->pgmpy) (4.4.2)\n",
            "Requirement already satisfied: typing-extensions in /usr/local/lib/python3.7/dist-packages (from torch->pgmpy) (3.7.4.3)\n",
            "Requirement already satisfied: patsy>=0.4.0 in /usr/local/lib/python3.7/dist-packages (from statsmodels->pgmpy) (0.5.1)\n",
            "Requirement already satisfied: six>=1.5 in /usr/local/lib/python3.7/dist-packages (from python-dateutil>=2.7.3->pandas->pgmpy) (1.15.0)\n",
            "Installing collected packages: pgmpy\n",
            "Successfully installed pgmpy-0.1.14\n"
          ],
          "name": "stdout"
        }
      ]
    },
    {
      "cell_type": "code",
      "metadata": {
        "id": "RRO51bNPVjWj"
      },
      "source": [
        "from pgmpy.models import BayesianModel\n",
        "from pgmpy.factors.discrete import TabularCPD\n",
        "from pgmpy.inference import VariableElimination"
      ],
      "execution_count": 2,
      "outputs": []
    },
    {
      "cell_type": "code",
      "metadata": {
        "colab": {
          "base_uri": "https://localhost:8080/"
        },
        "id": "f56g9U3cV9WQ",
        "outputId": "61ba7c69-9739-4cf1-d19e-6f77f4c62c0a"
      },
      "source": [
        "cancer_model=BayesianModel([('Pollution','Cancer'),('Smoker','Cancer'),('Cancer','Xray'),('Cancer','Dyspnoea')])\n",
        "print('Bayesian network models are :')\n",
        "print('\\t',cancer_model.nodes())\n",
        "print('Bayesian edges are:')\n",
        "print('\\t',cancer_model.edges())"
      ],
      "execution_count": 3,
      "outputs": [
        {
          "output_type": "stream",
          "text": [
            "Bayesian network models are :\n",
            "\t ['Pollution', 'Cancer', 'Smoker', 'Xray', 'Dyspnoea']\n",
            "Bayesian edges are:\n",
            "\t [('Pollution', 'Cancer'), ('Cancer', 'Xray'), ('Cancer', 'Dyspnoea'), ('Smoker', 'Cancer')]\n"
          ],
          "name": "stdout"
        }
      ]
    },
    {
      "cell_type": "code",
      "metadata": {
        "id": "k-S75sA5WFyo"
      },
      "source": [
        "cpd_poll = TabularCPD(variable='Pollution', variable_card=2,\n",
        "                      values=[[0.9], [0.1]])\n",
        "cpd_smoke = TabularCPD(variable='Smoker', variable_card=2,\n",
        "                       values=[[0.3], [0.7]])\n",
        "cpd_cancer = TabularCPD(variable='Cancer', variable_card=2,\n",
        "                        values=[[0.03, 0.05, 0.001, 0.02],\n",
        "                                [0.97, 0.95, 0.999, 0.98]],\n",
        "                        evidence=['Smoker', 'Pollution'],\n",
        "                        evidence_card=[2, 2])\n",
        "cpd_xray = TabularCPD(variable='Xray', variable_card=2,\n",
        "                      values=[[0.9, 0.2], [0.1, 0.8]],\n",
        "                      evidence=['Cancer'], evidence_card=[2])\n",
        "cpd_dysp = TabularCPD(variable='Dyspnoea', variable_card=2,\n",
        "                      values=[[0.65, 0.3], [0.35, 0.7]],\n",
        "                      evidence=['Cancer'], evidence_card=[2])"
      ],
      "execution_count": 4,
      "outputs": []
    },
    {
      "cell_type": "code",
      "metadata": {
        "colab": {
          "base_uri": "https://localhost:8080/"
        },
        "id": "73ETELF4WKFP",
        "outputId": "191fab8a-4966-4026-8ea2-75694370353d"
      },
      "source": [
        "# Associating the parameters with the model structure.\n",
        "cancer_model.add_cpds(cpd_poll, cpd_smoke, cpd_cancer, cpd_xray, cpd_dysp)\n",
        "\n",
        "# Checking if the cpds are valid for the model.\n",
        "cancer_model.check_model()"
      ],
      "execution_count": 5,
      "outputs": [
        {
          "output_type": "execute_result",
          "data": {
            "text/plain": [
              "True"
            ]
          },
          "metadata": {
            "tags": []
          },
          "execution_count": 5
        }
      ]
    },
    {
      "cell_type": "code",
      "metadata": {
        "id": "G5TxrqDDWP4K"
      },
      "source": [
        "cancer_infer=VariableElimination(cancer_model)"
      ],
      "execution_count": 6,
      "outputs": []
    },
    {
      "cell_type": "code",
      "metadata": {
        "colab": {
          "base_uri": "https://localhost:8080/"
        },
        "id": "8PSEe413WZUt",
        "outputId": "d2f3bf56-57d6-43b4-c1a0-acdebc42c6b5"
      },
      "source": [
        "print('All local independecies are as follows')\n",
        "cancer_model.get_independencies()\n",
        "print('Displaying CPDs')\n",
        "print(cancer_model.get_cpds('Pollution'))\n",
        "print(cancer_model.get_cpds('Smoker'))\n",
        "print(cancer_model.get_cpds('Cancer'))\n",
        "print(cancer_model.get_cpds('Xray'))\n",
        "print(cancer_model.get_cpds('Dyspnoea'))"
      ],
      "execution_count": 7,
      "outputs": [
        {
          "output_type": "stream",
          "text": [
            "All local independecies are as follows\n",
            "Displaying CPDs\n",
            "+--------------+-----+\n",
            "| Pollution(0) | 0.9 |\n",
            "+--------------+-----+\n",
            "| Pollution(1) | 0.1 |\n",
            "+--------------+-----+\n",
            "+-----------+-----+\n",
            "| Smoker(0) | 0.3 |\n",
            "+-----------+-----+\n",
            "| Smoker(1) | 0.7 |\n",
            "+-----------+-----+\n",
            "+-----------+--------------+--------------+--------------+--------------+\n",
            "| Smoker    | Smoker(0)    | Smoker(0)    | Smoker(1)    | Smoker(1)    |\n",
            "+-----------+--------------+--------------+--------------+--------------+\n",
            "| Pollution | Pollution(0) | Pollution(1) | Pollution(0) | Pollution(1) |\n",
            "+-----------+--------------+--------------+--------------+--------------+\n",
            "| Cancer(0) | 0.03         | 0.05         | 0.001        | 0.02         |\n",
            "+-----------+--------------+--------------+--------------+--------------+\n",
            "| Cancer(1) | 0.97         | 0.95         | 0.999        | 0.98         |\n",
            "+-----------+--------------+--------------+--------------+--------------+\n",
            "+---------+-----------+-----------+\n",
            "| Cancer  | Cancer(0) | Cancer(1) |\n",
            "+---------+-----------+-----------+\n",
            "| Xray(0) | 0.9       | 0.2       |\n",
            "+---------+-----------+-----------+\n",
            "| Xray(1) | 0.1       | 0.8       |\n",
            "+---------+-----------+-----------+\n",
            "+-------------+-----------+-----------+\n",
            "| Cancer      | Cancer(0) | Cancer(1) |\n",
            "+-------------+-----------+-----------+\n",
            "| Dyspnoea(0) | 0.65      | 0.3       |\n",
            "+-------------+-----------+-----------+\n",
            "| Dyspnoea(1) | 0.35      | 0.7       |\n",
            "+-------------+-----------+-----------+\n"
          ],
          "name": "stdout"
        }
      ]
    },
    {
      "cell_type": "code",
      "metadata": {
        "colab": {
          "base_uri": "https://localhost:8080/"
        },
        "id": "ywbrrMsoWdc2",
        "outputId": "0dfdcd88-4f19-44b0-9979-adca81543418"
      },
      "source": [
        "print('\\n Probablity of Cancer given smoker')\n",
        "q=cancer_infer.query(variables=['Cancer'],evidence={'Smoker':1})\n",
        "print(q)"
      ],
      "execution_count": 8,
      "outputs": [
        {
          "output_type": "stream",
          "text": [
            "Finding Elimination Order: : 100%|██████████| 3/3 [00:00<00:00, 725.28it/s]\n",
            "Eliminating: Dyspnoea: 100%|██████████| 3/3 [00:00<00:00, 339.80it/s]"
          ],
          "name": "stderr"
        },
        {
          "output_type": "stream",
          "text": [
            "\n",
            " Probablity of Cancer given smoker\n",
            "+-----------+---------------+\n",
            "| Cancer    |   phi(Cancer) |\n",
            "+===========+===============+\n",
            "| Cancer(0) |        0.0029 |\n",
            "+-----------+---------------+\n",
            "| Cancer(1) |        0.9971 |\n",
            "+-----------+---------------+\n"
          ],
          "name": "stdout"
        },
        {
          "output_type": "stream",
          "text": [
            "\n"
          ],
          "name": "stderr"
        }
      ]
    },
    {
      "cell_type": "code",
      "metadata": {
        "colab": {
          "base_uri": "https://localhost:8080/"
        },
        "id": "W35X_CydWjAm",
        "outputId": "8fb160c8-353c-4dd2-e66d-a3b2bace47d1"
      },
      "source": [
        "print('\\n Probablity of Cancer given smoker, pollution')\n",
        "q=cancer_infer.query(variables=['Cancer'],evidence={'Smoker':1,'Pollution':1})\n",
        "print(q)"
      ],
      "execution_count": 9,
      "outputs": [
        {
          "output_type": "stream",
          "text": [
            "Finding Elimination Order: : 100%|██████████| 2/2 [00:00<00:00, 528.18it/s]\n",
            "Eliminating: Dyspnoea: 100%|██████████| 2/2 [00:00<00:00, 360.01it/s]"
          ],
          "name": "stderr"
        },
        {
          "output_type": "stream",
          "text": [
            "\n",
            " Probablity of Cancer given smoker, pollution\n",
            "+-----------+---------------+\n",
            "| Cancer    |   phi(Cancer) |\n",
            "+===========+===============+\n",
            "| Cancer(0) |        0.0200 |\n",
            "+-----------+---------------+\n",
            "| Cancer(1) |        0.9800 |\n",
            "+-----------+---------------+\n"
          ],
          "name": "stdout"
        },
        {
          "output_type": "stream",
          "text": [
            "\n"
          ],
          "name": "stderr"
        }
      ]
    },
    {
      "cell_type": "code",
      "metadata": {
        "id": "zuvPIV59XFp_"
      },
      "source": [
        ""
      ],
      "execution_count": null,
      "outputs": []
    }
  ]
}